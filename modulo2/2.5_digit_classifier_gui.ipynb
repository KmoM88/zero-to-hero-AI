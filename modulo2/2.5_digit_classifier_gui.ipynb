{
 "cells": [
  {
   "cell_type": "markdown",
   "id": "31419196",
   "metadata": {},
   "source": [
    "# 2.5 Project: Digit Classifier with GUI (Tkinter)\n",
    "\n",
    "This project demonstrates how to build a professional digit classifier application with a graphical user interface (GUI) using Tkinter and a trained neural network. The goal is to bridge the gap between educational prototypes and real-world deployment.\n",
    "\n",
    "## Learning Objectives\n",
    "- Integrate a trained neural network model into a desktop GUI application.\n",
    "- Use Tkinter for drawing and user interaction.\n",
    "- Preprocess user input for model prediction.\n",
    "- Discuss best practices for packaging and deployment.\n",
    "---"
   ]
  },
  {
   "cell_type": "markdown",
   "id": "68963073",
   "metadata": {},
   "source": [
    "## Overview of the Architecture\n",
    "A professional ML application typically consists of:\n",
    "- **Frontend/UI**: User interaction (drawing digits, displaying predictions)\n",
    "- **Backend/Model**: Loads and runs the trained neural network\n",
    "- **Preprocessing**: Converts user input to the format expected by the model\n",
    "- **Packaging**: Bundling dependencies for distribution (e.g., with PyInstaller)\n"
   ]
  },
  {
   "cell_type": "markdown",
   "id": "31a09c8b",
   "metadata": {},
   "source": [
    "## Step 1: Train and Save a Digit Classifier Model\n",
    "We will use TensorFlow/Keras to train a simple MLP on MNIST and save the model for later use in the GUI."
   ]
  },
  {
   "cell_type": "code",
   "execution_count": 11,
   "id": "63a92db3",
   "metadata": {},
   "outputs": [
    {
     "name": "stderr",
     "output_type": "stream",
     "text": [
      "/media/kmom/Data/github/kmom88/zero-to-hero-AI/venv/lib/python3.10/site-packages/keras/src/layers/reshaping/flatten.py:37: UserWarning: Do not pass an `input_shape`/`input_dim` argument to a layer. When using Sequential models, prefer using an `Input(shape)` object as the first layer in the model instead.\n",
      "  super().__init__(**kwargs)\n"
     ]
    },
    {
     "name": "stdout",
     "output_type": "stream",
     "text": [
      "Epoch 1/5\n",
      "1875/1875 - 3s - 2ms/step - accuracy: 0.9251 - loss: 0.2601 - val_accuracy: 0.9598 - val_loss: 0.1371\n",
      "Epoch 2/5\n",
      "1875/1875 - 3s - 2ms/step - accuracy: 0.9251 - loss: 0.2601 - val_accuracy: 0.9598 - val_loss: 0.1371\n",
      "Epoch 2/5\n",
      "1875/1875 - 3s - 1ms/step - accuracy: 0.9669 - loss: 0.1121 - val_accuracy: 0.9688 - val_loss: 0.1026\n",
      "Epoch 3/5\n",
      "1875/1875 - 3s - 1ms/step - accuracy: 0.9669 - loss: 0.1121 - val_accuracy: 0.9688 - val_loss: 0.1026\n",
      "Epoch 3/5\n",
      "1875/1875 - 2s - 1ms/step - accuracy: 0.9762 - loss: 0.0781 - val_accuracy: 0.9754 - val_loss: 0.0840\n",
      "Epoch 4/5\n",
      "1875/1875 - 2s - 1ms/step - accuracy: 0.9762 - loss: 0.0781 - val_accuracy: 0.9754 - val_loss: 0.0840\n",
      "Epoch 4/5\n",
      "1875/1875 - 3s - 1ms/step - accuracy: 0.9826 - loss: 0.0580 - val_accuracy: 0.9748 - val_loss: 0.0778\n",
      "Epoch 5/5\n",
      "1875/1875 - 3s - 1ms/step - accuracy: 0.9826 - loss: 0.0580 - val_accuracy: 0.9748 - val_loss: 0.0778\n",
      "Epoch 5/5\n",
      "1875/1875 - 2s - 1ms/step - accuracy: 0.9862 - loss: 0.0458 - val_accuracy: 0.9756 - val_loss: 0.0779\n",
      "1875/1875 - 2s - 1ms/step - accuracy: 0.9862 - loss: 0.0458 - val_accuracy: 0.9756 - val_loss: 0.0779\n"
     ]
    }
   ],
   "source": [
    "# Train and save a digit classifier model\n",
    "import tensorflow as tf\n",
    "from tensorflow.keras.layers import Dense, Flatten\n",
    "from tensorflow.keras.models import Sequential\n",
    "(x_train, y_train), (x_test, y_test) = tf.keras.datasets.mnist.load_data()\n",
    "x_train, x_test = x_train / 255.0, x_test / 255.0\n",
    "model = Sequential([\n",
    "    Flatten(input_shape=(28,28)),\n",
    "    Dense(128, activation='relu'),\n",
    "    Dense(10, activation='softmax')\n",
    "])\n",
    "model.compile(optimizer='adam', loss='sparse_categorical_crossentropy', metrics=['accuracy'])\n",
    "model.fit(x_train, y_train, epochs=5, validation_data=(x_test, y_test), verbose=2)\n",
    "model.save('my_model.keras')"
   ]
  },
  {
   "cell_type": "markdown",
   "id": "149bd4b6",
   "metadata": {},
   "source": [
    "---\n",
    "## Step 2: Build the Tkinter GUI\n",
    "The GUI will allow users to draw a digit, preprocess the image, and display the model's prediction.\n",
    "In ubuntu 22.04, you can install Tkinter with:\n",
    "```bash\n",
    "sudo apt install python3-tk\n",
    "```"
   ]
  },
  {
   "cell_type": "code",
   "execution_count": 12,
   "id": "863a8a21",
   "metadata": {},
   "outputs": [
    {
     "name": "stdout",
     "output_type": "stream",
     "text": [
      "\u001b[1m1/1\u001b[0m \u001b[32m━━━━━━━━━━━━━━━━━━━━\u001b[0m\u001b[37m\u001b[0m \u001b[1m0s\u001b[0m 31ms/step\n",
      "\u001b[1m1/1\u001b[0m \u001b[32m━━━━━━━━━━━━━━━━━━━━\u001b[0m\u001b[37m\u001b[0m \u001b[1m0s\u001b[0m 31ms/step\n"
     ]
    }
   ],
   "source": [
    "# Tkinter GUI for digit classification\n",
    "import tkinter as tk\n",
    "from PIL import Image, ImageDraw, ImageOps\n",
    "import numpy as np\n",
    "import tensorflow as tf\n",
    "\n",
    "class DigitClassifierApp:\n",
    "    def __init__(self, master):\n",
    "        self.master = master\n",
    "        self.master.title('Digit Classifier')\n",
    "\n",
    "        # Canvas para dibujar\n",
    "        self.canvas = tk.Canvas(master, width=280, height=280, bg='white')\n",
    "        self.canvas.pack()\n",
    "\n",
    "        # Botones\n",
    "        self.button_predict = tk.Button(master, text='Predict', command=self.predict_digit)\n",
    "        self.button_predict.pack()\n",
    "\n",
    "        self.button_clear = tk.Button(master, text='Clear', command=self.clear_canvas)\n",
    "        self.button_clear.pack()\n",
    "\n",
    "        # Label de resultado\n",
    "        self.label_result = tk.Label(master, text='Draw a digit and click Predict')\n",
    "        self.label_result.pack()\n",
    "\n",
    "        # Imagen PIL para dibujar\n",
    "        self.image = Image.new('L', (280, 280), 'white')\n",
    "        self.draw = ImageDraw.Draw(self.image)\n",
    "\n",
    "        # Evento de dibujo\n",
    "        self.canvas.bind('<B1-Motion>', self.paint)\n",
    "\n",
    "        # Cargar modelo\n",
    "        self.model = tf.keras.models.load_model('my_model.keras')\n",
    "\n",
    "    def paint(self, event):\n",
    "        x1, y1 = (event.x - 8), (event.y - 8)\n",
    "        x2, y2 = (event.x + 8), (event.y + 8)\n",
    "        self.canvas.create_oval(x1, y1, x2, y2, fill='black', width=0)\n",
    "        self.draw.ellipse([x1, y1, x2, y2], fill='black')\n",
    "\n",
    "    def predict_digit(self):\n",
    "        img = self.image.resize((28, 28))\n",
    "        img = ImageOps.invert(img)\n",
    "        img = np.array(img) / 255.0\n",
    "        img = img.reshape(1, 28, 28)\n",
    "        pred = self.model.predict(img)\n",
    "        digit = np.argmax(pred)\n",
    "        self.label_result.config(text=f'Prediction: {digit}')\n",
    "\n",
    "    def clear_canvas(self):\n",
    "        # Limpia el canvas\n",
    "        self.canvas.delete('all')\n",
    "        # Reinicia la imagen PIL\n",
    "        self.image = Image.new('L', (280, 280), 'white')\n",
    "        self.draw = ImageDraw.Draw(self.image)\n",
    "        # Restablece el mensaje\n",
    "        self.label_result.config(text='Draw a digit and click Predict')\n",
    "\n",
    "if __name__ == '__main__':\n",
    "    root = tk.Tk()\n",
    "    app = DigitClassifierApp(root)\n",
    "    root.mainloop()\n"
   ]
  },
  {
   "cell_type": "markdown",
   "id": "f266a467",
   "metadata": {},
   "source": [
    "---\n",
    "## Professional Packaging and Deployment\n",
    "For real-world use, consider:\n",
    "- Packaging with PyInstaller or cx_Freeze to create standalone executables.\n",
    "- Including model files and dependencies in the package.\n",
    "- Adding error handling and logging.\n",
    "- Designing a clean, user-friendly interface.\n",
    "- Optionally, using ONNX for cross-framework model deployment."
   ]
  },
  {
   "cell_type": "markdown",
   "id": "1daf1ab4",
   "metadata": {},
   "source": [
    "---\n",
    "## Summary and Next Steps\n",
    "- You have built a digit classifier with a GUI using Tkinter and a trained neural network.\n",
    "- This approach can be extended to other image or text classification tasks.\n",
    "- For professional projects, focus on maintainability, packaging, and user experience.\n",
    "- Next: Try deploying your app, or extend it with more advanced models and features!\n",
    "---"
   ]
  }
 ],
 "metadata": {
  "kernelspec": {
   "display_name": "venv",
   "language": "python",
   "name": "python3"
  },
  "language_info": {
   "codemirror_mode": {
    "name": "ipython",
    "version": 3
   },
   "file_extension": ".py",
   "mimetype": "text/x-python",
   "name": "python",
   "nbconvert_exporter": "python",
   "pygments_lexer": "ipython3",
   "version": "3.10.12"
  }
 },
 "nbformat": 4,
 "nbformat_minor": 5
}
