{
 "cells": [
  {
   "cell_type": "markdown",
   "id": "32c98042",
   "metadata": {},
   "source": [
    "# Module 1.2: Introduction to Multilayer Perceptrons (MLP)\n",
    "\n",
    "## Objectives\n",
    "- Understand the limitations of a single-layer perceptron and why we need multilayer networks.\n",
    "- Learn the basic structure and function of a multilayer perceptron (MLP).\n",
    "- Implement a simple MLP from scratch using NumPy.\n",
    "- Visualize how an MLP can solve problems that a single-layer perceptron cannot.\n",
    "\n",
    "## What is a Multilayer Perceptron?\n",
    "A multilayer perceptron (MLP) is a type of feedforward artificial neural network that consists of at least three layers: an input layer, one or more hidden layers, and an output layer. Each layer is made up of neurons, and each neuron in one layer is connected to every neuron in the next layer.\n",
    "\n",
    "The key difference between an MLP and a single-layer perceptron is the presence of one or more hidden layers, which allow the network to learn more complex, non-linear functions.\n",
    "\n",
    "**MLP Structure:**\n",
    "- Input layer: Receives the input features.\n",
    "- Hidden layer(s): Each neuron applies a weighted sum and a non-linear activation function (e.g., sigmoid, ReLU).\n",
    "- Output layer: Produces the final prediction.\n",
    "\n",
    "Mathematically, for a single hidden layer:\n",
    "$$\n",
    "\\begin{align*}\n",
    "h &= \\sigma(W^{(1)} x + b^{(1)}) \\\\\n",
    "y &= \\sigma(W^{(2)} h + b^{(2)})\n",
    "\\end{align*}\n",
    "$$\n",
    "where:\n",
    "- $x$ is the input vector\n",
    "- $W^{(1)}$, $b^{(1)}$ are the weights and biases for the hidden layer\n",
    "- $h$ is the hidden layer output\n",
    "- $W^{(2)}$, $b^{(2)}$ are the weights and biases for the output layer\n",
    "- $\\sigma$ is an activation function (e.g., sigmoid, ReLU)"
   ]
  },
  {
   "cell_type": "markdown",
   "id": "6d229109",
   "metadata": {},
   "source": [
    "## Why Do We Need Hidden Layers?\n",
    "A single-layer perceptron can only solve linearly separable problems. However, many real-world problems are not linearly separable (e.g., XOR). By adding hidden layers and non-linear activation functions, an MLP can learn complex, non-linear decision boundaries.\n",
    "\n",
    "**Example:** The XOR problem cannot be solved by a single-layer perceptron, but can be solved by an MLP with one hidden layer.\n",
    "\n",
    "Let's visualize a simple MLP architecture:"
   ]
  },
  {
   "cell_type": "code",
   "execution_count": 8,
   "id": "f75c6bab",
   "metadata": {},
   "outputs": [
    {
     "data": {
      "image/png": "[encoded data removed]",
      "text/plain": [
       "<Figure size 600x400 with 1 Axes>"
      ]
     },
     "metadata": {},
     "output_type": "display_data"
    }
   ],
   "source": [
    "import matplotlib.pyplot as plt\n",
    "\n",
    "def plot_simple_mlp():\n",
    "    fig, ax = plt.subplots(figsize=(6,4))\n",
    "    # Input layer\n",
    "    for i, y in enumerate([1, -1]):\n",
    "        ax.scatter(0, y, s=400, color='skyblue', edgecolor='k', zorder=10)\n",
    "        ax.text(-0.6, y + 0.2, f'$x_{i+1}$', fontsize=14, va='center')\n",
    "    # Hidden layer\n",
    "    for i, y in enumerate([1, -1]):\n",
    "        ax.scatter(2, y, s=400, color='orange', edgecolor='k', zorder=10)\n",
    "        ax.text(1.4, y + 0.2, f'$h_{i+1}$', fontsize=14, va='center', color='k')\n",
    "    # Output layer\n",
    "    ax.scatter(4, 0, s=400, color='lightgreen', edgecolor='k', zorder=10)\n",
    "    ax.text(4.3, 0, '$y$', fontsize=14, va='center')\n",
    "    # Connections\n",
    "    for y0 in [1, -1]:\n",
    "        for y1 in [1, -1]:\n",
    "            ax.plot([0,2],[y0,y1],'k-', lw=1)\n",
    "    for y1 in [1, -1]:\n",
    "        ax.plot([2,4],[y1,0],'k-', lw=1)\n",
    "    ax.axis('off')\n",
    "    ax.set_xlim(-1,5)\n",
    "    ax.set_ylim(-2,2)\n",
    "    plt.title('Simple MLP Architecture')\n",
    "    plt.show()\n",
    "\n",
    "plot_simple_mlp()"
   ]
  },
  {
   "cell_type": "markdown",
   "id": "e473cd85",
   "metadata": {},
   "source": [
    "## The Forward Pass and Activation Functions\n",
    "In an MLP, each neuron computes a weighted sum of its inputs, adds a bias, and applies a non-linear activation function. Common activation functions include sigmoid, tanh, and ReLU.\n",
    "\n",
    "The forward pass for a single hidden layer MLP is:\n",
    "$$\n",
    "\\begin{align*}\n",
    "h &= \\sigma(W^{(1)} x + b^{(1)}) \\\\\n",
    "y &= \\sigma(W^{(2)} h + b^{(2)})\n",
    "\\end{align*}\n",
    "$$\n",
    "\n",
    "Let's implement a simple MLP in NumPy to solve the XOR problem:"
   ]
  },
  {
   "cell_type": "code",
   "execution_count": 12,
   "id": "8b7d9d69",
   "metadata": {},
   "outputs": [
    {
     "name": "stdout",
     "output_type": "stream",
     "text": [
      "Input\tPredicted\n",
      "[0 0]\t0.000\n",
      "[0 1]\t1.000\n",
      "[1 0]\t1.000\n",
      "[1 1]\t0.000\n"
     ]
    }
   ],
   "source": [
    "import numpy as np\n",
    "\n",
    "# Activation function (sigmoid)\n",
    "def sigmoid(x):\n",
    "    return 1 / (1 + np.exp(-x))\n",
    "\n",
    "# XOR dataset\n",
    "X_xor = np.array([[0,0],[0,1],[1,0],[1,1]])\n",
    "y_xor = np.array([0,1,1,0])\n",
    "\n",
    "# Manually set weights for a 2-2-1 MLP that solves XOR\n",
    "W1 = np.array([[20,20], [-20,-20]])  # shape (2,2)\n",
    "b1 = np.array([-10,30])              # shape (2,)\n",
    "W2 = np.array([[20], [20]])          # shape (2,1)\n",
    "b2 = np.array([-30])                 # shape (1,)\n",
    "\n",
    "def mlp_xor_forward(X):\n",
    "    h = sigmoid(X @ W1.T + b1)\n",
    "    y = sigmoid(h @ W2 + b2)\n",
    "    return y.squeeze()\n",
    "\n",
    "# Predict and show results\n",
    "y_pred = mlp_xor_forward(X_xor)\n",
    "print('Input\\tPredicted')\n",
    "for x, yp in zip(X_xor, y_pred):\n",
    "    print(f'{x}\\t{yp:.3f}')"
   ]
  },
  {
   "cell_type": "markdown",
   "id": "3d58ba86",
   "metadata": {},
   "source": [
    "**Results:**\n",
    "The MLP with one hidden layer and sigmoid activation can solve the XOR problem, which is not possible with a single-layer perceptron. The predicted outputs are close to 0 or 1 for each input, showing that the network has learned the non-linear mapping.\n",
    "\n",
    "**Key Point:**\n",
    "- The hidden layer and non-linear activation function allow the MLP to learn complex, non-linear relationships in the data.\n",
    "- This is why MLPs are much more powerful than single-layer perceptrons."
   ]
  },
  {
   "cell_type": "markdown",
   "id": "ac5b0b44",
   "metadata": {},
   "source": [
    "## Summary and Next Steps\n",
    "- You learned the motivation for multilayer perceptrons (MLPs) and how they overcome the limitations of single-layer perceptrons.\n",
    "- You saw the structure of an MLP and how the forward pass works with non-linear activation functions.\n",
    "- You implemented a simple MLP in NumPy to solve the XOR problem, demonstrating the power of hidden layers.\n",
    "\n",
    "**Next steps:**\n",
    "- Learn how to train an MLP using backpropagation and gradient descent.\n",
    "- Explore different activation functions and architectures.\n",
    "- Apply MLPs to real-world datasets and more complex problems."
   ]
  }
 ],
 "metadata": {
  "kernelspec": {
   "display_name": "venv",
   "language": "python",
   "name": "python3"
  },
  "language_info": {
   "codemirror_mode": {
    "name": "ipython",
    "version": 3
   },
   "file_extension": ".py",
   "mimetype": "text/x-python",
   "name": "python",
   "nbconvert_exporter": "python",
   "pygments_lexer": "ipython3",
   "version": "3.10.12"
  }
 },
 "nbformat": 4,
 "nbformat_minor": 5
}
